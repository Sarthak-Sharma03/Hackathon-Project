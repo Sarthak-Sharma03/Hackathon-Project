{
  "cells": [
    {
      "cell_type": "code",
      "execution_count": 2,
      "metadata": {
        "colab": {
          "base_uri": "https://localhost:8080/"
        },
        "id": "0OzijgX5hJf9",
        "outputId": "e2933cac-90b6-4619-dc64-cbf9033616de"
      },
      "outputs": [
        {
          "name": "stdout",
          "output_type": "stream",
          "text": [
            "  Preparing metadata (setup.py) ... \u001b[?25l\u001b[?25hdone\n",
            "  Building wheel for wget (setup.py) ... \u001b[?25l\u001b[?25hdone\n"
          ]
        }
      ],
      "source": [
        "!pip -qq install wget"
      ]
    },
    {
      "cell_type": "code",
      "execution_count": 3,
      "metadata": {
        "id": "x_ZazZgmZ-g5"
      },
      "outputs": [],
      "source": [
        "import wget\n",
        "import gc\n",
        "import hashlib\n",
        "import ipaddress\n",
        "import pandas as pd \n",
        "import numpy as np\n",
        "import matplotlib.pyplot as plt\n",
        "import seaborn as sns\n",
        "import pickle"
      ]
    },
    {
      "cell_type": "code",
      "execution_count": 4,
      "metadata": {
        "colab": {
          "base_uri": "https://localhost:8080/",
          "height": 36
        },
        "id": "QlrIozZGhQV3",
        "outputId": "d3599f23-680d-48db-dfe2-34aa945d4f72"
      },
      "outputs": [
        {
          "data": {
            "application/vnd.google.colaboratory.intrinsic+json": {
              "type": "string"
            },
            "text/plain": [
              "'Chitkara_Anomaly_Detection.zip'"
            ]
          },
          "execution_count": 4,
          "metadata": {},
          "output_type": "execute_result"
        }
      ],
      "source": [
        "url = \"https://chitkara-hackathon.s3.ap-south-1.amazonaws.com/Chitkara_Anomaly_Detection.zip\"\n",
        "wget.download(url)"
      ]
    },
    {
      "cell_type": "code",
      "execution_count": 5,
      "metadata": {
        "colab": {
          "base_uri": "https://localhost:8080/"
        },
        "id": "9_RC8z0YhSJJ",
        "outputId": "08fc97e1-186a-4e43-fe40-44dde77a5768"
      },
      "outputs": [
        {
          "name": "stdout",
          "output_type": "stream",
          "text": [
            "Archive:  /content/Chitkara_Anomaly_Detection.zip\n",
            "  inflating: Chitkara_Anomaly_Detection/.DS_Store  \n",
            "  inflating: Chitkara_Anomaly_Detection/Login_Data.csv  \n"
          ]
        }
      ],
      "source": [
        "!unzip '/content/Chitkara_Anomaly_Detection.zip'"
      ]
    },
    {
      "cell_type": "code",
      "execution_count": 6,
      "metadata": {
        "id": "gosQJ2BihZfQ"
      },
      "outputs": [],
      "source": [
        "df = pd.read_csv(\"/content/Chitkara_Anomaly_Detection/Login_Data.csv\")\n",
        "\n",
        "df.columns = ['Timestamp', 'UserID', 'IP', 'Country', 'Region', 'City', 'Browser_Name_Version', 'Device', 'Successful']\n",
        "df[['Browser', 'Version']] = df['Browser_Name_Version'].str.extract(r'([a-zA-Z]+[a-zA-Z\\s]*[a-zA-Z]+) (\\d.*\\d)')\n",
        "\n",
        "df['Region'] = df['Region'].fillna('reg_null')\n",
        "df['City'] = df['City'].fillna('city_null')\n",
        "df['Device'] = df['Device'].fillna('dev_null')\n",
        "df['Browser'] = df['Browser'].fillna('browse_null')\n",
        "df['Version'] = df['Version'].fillna('ver_null')\n",
        "\n",
        "df['Region'] = df['Region'].replace('-', 'reg_null')\n",
        "df['City'] = df['City'].replace('-', 'city_null')"
      ]
    },
    {
      "cell_type": "code",
      "execution_count": 7,
      "metadata": {
        "colab": {
          "base_uri": "https://localhost:8080/"
        },
        "id": "xMsj3qrYhc3O",
        "outputId": "423d4914-182d-4fc2-cbee-49286cbb1679"
      },
      "outputs": [
        {
          "data": {
            "text/plain": [
              "19"
            ]
          },
          "execution_count": 7,
          "metadata": {},
          "output_type": "execute_result"
        }
      ],
      "source": [
        "def get_dates(df):\n",
        "    new = df.copy()\n",
        "    del df\n",
        "    new['Timestamp'] = pd.to_datetime(new['Timestamp'])\n",
        "    new['Year'] = new['Timestamp'].dt.year\n",
        "    new['Month'] = new['Timestamp'].dt.month\n",
        "    new['Day'] = new['Timestamp'].dt.day\n",
        "    new['Hour'] = new['Timestamp'].dt.hour\n",
        "    new['Minute'] = new['Timestamp'].dt.minute\n",
        "    new['Second'] = new['Timestamp'].dt.second\n",
        "    return new\n",
        "\n",
        "df = get_dates(df)\n",
        "gc.collect()"
      ]
    },
    {
      "cell_type": "code",
      "execution_count": 8,
      "metadata": {
        "id": "evbrALxThrrh"
      },
      "outputs": [],
      "source": [
        "def hash_sha256(browser, version):\n",
        "    string_to_hash = browser + version\n",
        "    hash_object = hashlib.sha256(string_to_hash.encode())\n",
        "    hash_digest = hash_object.digest()\n",
        "    hash_integer = int.from_bytes(hash_digest[:4], byteorder='big')\n",
        "    return hash_integer\n",
        "\n",
        "df['browser_hash'] = df.apply(lambda row: hash_sha256(row['Browser'], row['Version']), axis=1)"
      ]
    },
    {
      "cell_type": "code",
      "execution_count": 9,
      "metadata": {
        "colab": {
          "base_uri": "https://localhost:8080/"
        },
        "id": "4YFvTj4SlX07",
        "outputId": "262f64a4-64d1-4be9-a34f-d45afb7fa095"
      },
      "outputs": [
        {
          "data": {
            "text/plain": [
              "0"
            ]
          },
          "execution_count": 9,
          "metadata": {},
          "output_type": "execute_result"
        }
      ],
      "source": [
        "ohe = pd.get_dummies(df['Device'], prefix='dev')\n",
        "df = df.join(ohe)\n",
        "\n",
        "gc.collect()"
      ]
    },
    {
      "cell_type": "code",
      "execution_count": 10,
      "metadata": {
        "id": "LlRGMRv8u_kO"
      },
      "outputs": [],
      "source": [
        "def extract_ip_components(ip):\n",
        "    octets = ip.split('.')\n",
        "    return [int(octet) for octet in octets]\n",
        "\n",
        "def determine_ip_type(ip):\n",
        "    try:\n",
        "        ipaddress.IPv6Address(ip)\n",
        "        return 'IPv6'\n",
        "    except ipaddress.AddressValueError:\n",
        "        return 'IPv4'\n",
        "\n",
        "def convert_to_ip_range(ip):\n",
        "    ip_network = ipaddress.ip_network(ip)\n",
        "    return str(ip_network)\n",
        "\n",
        "# Extract IP components\n",
        "df['FirstOctet'] = df['IP'].apply(lambda x: extract_ip_components(x)[0])\n",
        "df['SecondOctet'] = df['IP'].apply(lambda x: extract_ip_components(x)[1])\n",
        "df['ThirdOctet'] = df['IP'].apply(lambda x: extract_ip_components(x)[2])\n",
        "df['FourthOctet'] = df['IP'].apply(lambda x: extract_ip_components(x)[3])\n",
        "df['IPType'] = df['IP'].apply(determine_ip_type)\n",
        "df['IPRange'] = df['IP'].apply(convert_to_ip_range)"
      ]
    },
    {
      "cell_type": "code",
      "execution_count": 11,
      "metadata": {
        "id": "Ruhwc7cQ0K4r"
      },
      "outputs": [],
      "source": [
        "def consistent_hash_encode(df, columns, replicas=3):\n",
        "    encoded_df = df.copy()\n",
        "    for column in columns:\n",
        "\n",
        "        if column == 'Country':\n",
        "            buff = 200\n",
        "        elif column == 'Region':\n",
        "            buff = 4000\n",
        "        elif column == 'City':\n",
        "            buff = 1000\n",
        "\n",
        "        unique_values = df[column].unique()\n",
        "        encoding_map = {}\n",
        "\n",
        "        for value in unique_values:\n",
        "            hash_key = _get_hash_key(value, replicas) % buff\n",
        "            encoding_map[value] = hash_key\n",
        "\n",
        "        encoded_df[column] = encoded_df[column].map(encoding_map)\n",
        "    return encoded_df\n",
        "\n",
        "def _get_hash_key(value, replicas):\n",
        "    sha256 = hashlib.sha256()\n",
        "    sha256.update(value.encode('utf-8'))\n",
        "    hash_value = int(sha256.hexdigest(), 16)\n",
        "    return hash_value\n",
        "\n",
        "columns_to_encode = ['Country', 'Region', 'City']\n",
        "df = consistent_hash_encode(df, columns_to_encode)"
      ]
    },
    {
      "cell_type": "code",
      "execution_count": 12,
      "metadata": {
        "id": "Njp_f3HH4W52"
      },
      "outputs": [],
      "source": [
        "freq_encoding = df['UserID'].value_counts().to_dict()\n",
        "df['UserID'] = df['UserID'].map(freq_encoding)"
      ]
    },
    {
      "cell_type": "code",
      "execution_count": 13,
      "metadata": {
        "id": "cFhVNFJi3aJp"
      },
      "outputs": [],
      "source": [
        "df['Successful'] = df['Successful'].astype(int)\n",
        "df = df[df['City'] != 'city_null']\n",
        "df = df[df['Region'] != 'reg_null']\n",
        "df = df[df['UserID'] != -4324475583306591935]\n",
        "df.drop([\"IP\", \"IPRange\", \"IPType\", \"Browser_Name_Version\", \"Browser\", \"Version\", \"Timestamp\", \"Device\"], inplace=True, axis=1)"
      ]
    },
    {
      "cell_type": "code",
      "execution_count": null,
      "metadata": {
        "id": "VenG74cd_H39"
      },
      "outputs": [],
      "source": [
        "from sklearn.preprocessing import StandardScaler\n",
        "scaler = StandardScaler()\n",
        "scaled_data = scaler.fit_transform(df)\n",
        "\n",
        "filename = 'scaler.pkl'\n",
        "with open(filename, 'wb') as file:\n",
        "    pickle.dump(scaler, file)"
      ]
    },
    {
      "cell_type": "code",
      "execution_count": 13,
      "metadata": {
        "colab": {
          "base_uri": "https://localhost:8080/"
        },
        "id": "fqEb2cK1_HzE",
        "outputId": "d6a55b75-8d38-403d-d8a4-ffd081bfeade"
      },
      "outputs": [
        {
          "name": "stdout",
          "output_type": "stream",
          "text": [
            "Epoch [1/10], Loss: 0.6760\n",
            "Epoch [2/10], Loss: 0.6593\n",
            "Epoch [3/10], Loss: 0.6582\n",
            "Epoch [4/10], Loss: 0.6522\n",
            "Epoch [5/10], Loss: 0.6506\n",
            "Epoch [6/10], Loss: 0.6506\n",
            "Epoch [7/10], Loss: 0.6519\n",
            "Epoch [8/10], Loss: 0.6640\n",
            "Epoch [9/10], Loss: 0.6690\n",
            "Epoch [10/10], Loss: 0.6581\n"
          ]
        }
      ],
      "source": [
        "from sklearn.ensemble import IsolationForest\n",
        "from sklearn.svm import OneClassSVM\n",
        "from sklearn.metrics import roc_auc_score\n",
        "import torch\n",
        "import torch.nn as nn\n",
        "import torch.optim as optim\n",
        "from sklearn.mixture import GaussianMixture\n",
        "\n",
        "# Load the dataset\n",
        "data = pd.read_csv('anomaly_dataset.csv')  \n",
        "\n",
        "# Split the dataset into training and testing sets\n",
        "train_data = data[:800]\n",
        "test_data = data[800:]\n",
        "\n",
        "# Preprocessing - Scale the data if needed\n",
        "# Define the Deep Autoencoding Gaussian Mixture Model (DAGMM)\n",
        "class Autoencoder(nn.Module):\n",
        "    def __init__(self, input_dim, hidden_dim, latent_dim):\n",
        "        super(Autoencoder, self).__init__()\n",
        "        self.encoder = nn.Sequential(\n",
        "            nn.Linear(input_dim, hidden_dim),\n",
        "            nn.Tanh(),\n",
        "            nn.Linear(hidden_dim, latent_dim)\n",
        "        )\n",
        "        self.decoder = nn.Sequential(\n",
        "            nn.Linear(latent_dim, hidden_dim),\n",
        "            nn.Tanh(),\n",
        "            nn.Linear(hidden_dim, input_dim)\n",
        "        )\n",
        "    \n",
        "    def forward(self, x):\n",
        "        z = self.encoder(x)\n",
        "        x_hat = self.decoder(z)\n",
        "        return x_hat, z\n",
        "\n",
        "class DAGMM(nn.Module):\n",
        "    def __init__(self, input_dim, hidden_dim, latent_dim, n_gmm):\n",
        "        super(DAGMM, self).__init__()\n",
        "        self.autoencoder = Autoencoder(input_dim, hidden_dim, latent_dim)\n",
        "        self.estimation = GaussianMixture(n_components=n_gmm, covariance_type='diag')\n",
        "    \n",
        "    def forward(self, x):\n",
        "        x_hat, z = self.autoencoder(x)\n",
        "        gamma = self.estimation.predict_proba(z.detach().numpy())\n",
        "        return x_hat, z, gamma\n",
        "\n",
        "# Define the Deep Support Vector Data Description (Deep SVDD)\n",
        "class DeepSVDD(nn.Module):\n",
        "    def __init__(self, input_dim, hidden_dim, latent_dim):\n",
        "        super(DeepSVDD, self).__init__()\n",
        "        self.encoder = nn.Sequential(\n",
        "            nn.Linear(input_dim, hidden_dim),\n",
        "            nn.Tanh(),\n",
        "            nn.Linear(hidden_dim, latent_dim)\n",
        "        )\n",
        "        self.decoder = nn.Sequential(\n",
        "            nn.Linear(latent_dim, hidden_dim),\n",
        "            nn.Tanh(),\n",
        "            nn.Linear(hidden_dim, input_dim)\n",
        "        )\n",
        "        self.center = nn.Parameter(torch.randn(latent_dim))\n",
        "    \n",
        "    def forward(self, x):\n",
        "        z = self.encoder(x)\n",
        "        x_hat = self.decoder(z)\n",
        "        return x_hat, z\n",
        "\n",
        "# Train the models\n",
        "def train_dagmm(dagmm, train_data, num_epochs, batch_size):\n",
        "    criterion = nn.MSELoss()\n",
        "    optimizer = optim.Adam(dagmm.parameters(), lr=0.001)\n",
        "    train_loader = torch.utils.data.DataLoader(train_data, batch_size=batch_size, shuffle=True)\n",
        "\n",
        "    for epoch in range(num_epochs):\n",
        "        total_loss = 0.0\n",
        "        for inputs in train_loader:\n",
        "            optimizer.zero_grad()\n",
        "            x = torch.tensor(inputs.values, dtype=torch.float32)\n",
        "            x_hat, z, gamma = dagmm(x)\n",
        "            loss_reconstruction = criterion(x_hat, x)\n",
        "            loss_covariance = dagmm.estimation.score_samples(z.detach().numpy())\n",
        "            loss = loss_reconstruction + loss_covariance.mean()\n",
        "            total_loss += loss.item()\n",
        "            loss.backward()\n",
        "            optimizer.step()\n",
        "\n",
        "        print('Epoch [{}/{}], Loss: {:.4f}'.format(epoch+1, num_epochs, total_loss))\n",
        "\n",
        "def train_deep_svdd(deep_svdd, train_data, num_epochs, batch_size):\n",
        "    criterion = nn.MSELoss()\n",
        "    optimizer = optim.Adam(deep_svdd.parameters(), lr=0.001)\n",
        "    train_loader = torch.utils.data.DataLoader(train_data, batch_size=batch_size, shuffle=True)\n",
        "\n",
        "    for epoch in range(num_epochs):\n",
        "        total_loss = 0.0\n",
        "        for inputs in train_loader:\n",
        "            optimizer.zero_grad()\n",
        "            x = torch.tensor(inputs.values, dtype=torch.float32)\n",
        "            x_hat, z = deep_svdd(x)\n",
        "            loss_reconstruction = criterion(x_hat, x)\n",
        "            loss = loss_reconstruction\n",
        "            total_loss += loss.item()\n",
        "            loss.backward()\n",
        "            optimizer.step()\n",
        "\n",
        "        print('Epoch [{}/{}], Loss: {:.4f}'.format(epoch+1, num_epochs, total_loss))\n",
        "\n",
        "# Initialize the models\n",
        "input_dim = len(data.columns)\n",
        "hidden_dim = 32\n",
        "latent_dim = 16\n",
        "n_gmm = 5\n",
        "\n",
        "dagmm = DAGMM(input_dim, hidden_dim, latent_dim, n_gmm)\n",
        "deep_svdd = DeepSVDD(input_dim, hidden_dim, latent_dim)\n",
        "\n",
        "# Train the models\n",
        "num_epochs = 50\n",
        "batch_size = 32\n",
        "\n",
        "train_dagmm(dagmm, train_data, num_epochs, batch_size)\n",
        "train_deep_svdd(deep_svdd, train_data, num_epochs, batch_size)\n",
        "\n",
        "# Obtain the anomaly scores for test data\n",
        "test_loader = torch.utils.data.DataLoader(test_data, batch_size=1, shuffle=False)\n",
        "dagmm_scores = []\n",
        "deep_svdd_scores = []\n",
        "isolation_forest_scores = []\n",
        "\n",
        "for inputs in test_loader:\n",
        "    x = torch.tensor(inputs.values, dtype=torch.float32)\n",
        "    x_hat_dagmm, z_dagmm, gamma = dagmm(x)\n",
        "    x_hat_deep_svdd, z_deep_svdd = deep_svdd(x)\n",
        "    \n",
        "    dagmm_score = np.mean(np.linalg.norm(x.detach().numpy() - x_hat_dagmm.detach().numpy(), axis=1))\n",
        "    deep_svdd_score = np.mean(np.linalg.norm(x.detach().numpy() - x_hat_deep_svdd.detach().numpy(), axis=1))\n",
        "    isolation_forest_score = isolation_forest.decision_function(x.detach().numpy())\n",
        "\n",
        "    dagmm_scores.append(dagmm_score)\n",
        "    deep_svdd_scores.append(deep_svdd_score)\n",
        "    isolation_forest_scores.append(isolation_forest_score)\n",
        "\n",
        "# Combine the anomaly scores using an ensemble approach\n",
        "ensemble_scores = np.mean([dagmm_scores, deep_svdd_scores, isolation_forest_scores], axis=0)\n",
        "# Evaluate the ensemble model\n",
        "labels = test_data['label'].values  # True labels for the test data\n",
        "auc = roc_auc_score(labels, ensemble_scores)\n",
        "print('Loss: {:.4f}'.format(auc))\n"
      ]
    },
    {
      "cell_type": "code",
      "execution_count": 54,
      "metadata": {
        "id": "npopRu91Zzxl"
      },
      "outputs": [],
      "source": [
        "filename = 'AutoE.pkl'\n",
        "state_dict = autoencoder.state_dict()\n",
        "with open(filename, 'wb') as file:\n",
        "    pickle.dump(state_dict, file)"
      ]
    },
    {
      "cell_type": "code",
      "execution_count": 14,
      "metadata": {
        "colab": {
          "base_uri": "https://localhost:8080/"
        },
        "id": "sJaLjZJYjVbV",
        "outputId": "d6aa02a0-3c79-40a0-e247-491e39f00ca1"
      },
      "outputs": [
        {
          "data": {
            "text/plain": [
              "0"
            ]
          },
          "execution_count": 14,
          "metadata": {},
          "output_type": "execute_result"
        }
      ],
      "source": [
        "gc.collect()"
      ]
    },
    {
      "cell_type": "code",
      "execution_count": 34,
      "metadata": {
        "colab": {
          "base_uri": "https://localhost:8080/"
        },
        "id": "eaOb4PHa_YoS",
        "outputId": "602afb4f-f92e-4268-c206-38e02a6a2c74"
      },
      "outputs": [
        {
          "name": "stdout",
          "output_type": "stream",
          "text": [
            "Detected anomalies: 32074\n"
          ]
        }
      ],
      "source": [
        "threshold = 1.5\n",
        "X_train_tensor = torch.Tensor(X_train[:1000000])\n",
        "X_pred_tensor = autoencoder(X_train_tensor)\n",
        "mse = np.mean(np.power(X_train[:1000000] - X_pred_tensor.detach().numpy(), 2), axis=1)\n",
        "anomalies = np.where(mse > threshold)[0]\n",
        "print(\"Detected anomalies:\", len(anomalies))"
      ]
    },
    {
      "cell_type": "code",
      "execution_count": 46,
      "metadata": {
        "id": "kH2qWgAoJwCG"
      },
      "outputs": [],
      "source": [
        "temp = pd.DataFrame(mse, columns=[\"MSE\"])\n",
        "temp['Verdict'] = [\"Anomaly\" if x in anomalies else \"NotAnomaly\" for x in range(len(temp))]"
      ]
    },
    {
      "cell_type": "code",
      "execution_count": 50,
      "metadata": {
        "colab": {
          "base_uri": "https://localhost:8080/",
          "height": 483
        },
        "id": "Zq6VuRh2Zkl2",
        "outputId": "e012b2aa-55a0-4cce-ebae-0089d5570664"
      },
      "outputs": [
        {
          "data": {
            "text/plain": [
              "<Axes: xlabel='Verdict', ylabel='count'>"
            ]
          },
          "execution_count": 50,
          "metadata": {},
          "output_type": "execute_result"
        },
        {
          "data": {
            "image/png": "[encoded data removed]",
            "text/plain": [
              "<Figure size 640x480 with 1 Axes>"
            ]
          },
          "metadata": {},
          "output_type": "display_data"
        }
      ],
      "source": [
        "sns.countplot(x=temp['Verdict'])"
      ]
    },
    {
      "cell_type": "code",
      "execution_count": 58,
      "metadata": {
        "colab": {
          "base_uri": "https://localhost:8080/"
        },
        "id": "sc_dILn1eUUS",
        "outputId": "b3c23f44-309f-472c-bfc6-7e5a063d8d5f"
      },
      "outputs": [
        {
          "data": {
            "text/plain": [
              "0"
            ]
          },
          "execution_count": 58,
          "metadata": {},
          "output_type": "execute_result"
        }
      ],
      "source": [
        "gc.collect()"
      ]
    },
    {
      "cell_type": "code",
      "execution_count": null,
      "metadata": {
        "id": "HbfT06x2Yj63"
      },
      "outputs": [],
      "source": [
        "from sklearn.mixture import GaussianMixture\n",
        "from sklearn.cluster import KMeans\n",
        "from sklearn.decomposition import PCA\n",
        "from sklearn.preprocessing import StandardScaler\n",
        "\n",
        "scaler = StandardScaler()\n",
        "scaled_data = scaler.fit_transform(df)\n",
        "\n",
        "gmm = GaussianMixture(n_components=50)\n",
        "gmm.fit(scaled_data)\n",
        "log_likelihoods = gmm.score_samples(scaled_data)\n",
        "threshold_gmm = np.percentile(log_likelihoods, 5)\n",
        "anomalies_gmm = scaled_data[log_likelihoods < threshold_gmm]\n"
      ]
    },
    {
      "cell_type": "code",
      "execution_count": null,
      "metadata": {
        "id": "4Eb4RcrPbxrP"
      },
      "outputs": [],
      "source": [
        "pca = PCA(n_components=2)\n",
        "pca_data = pca.fit_transform(scaled_data)\n",
        "kmeans = KMeans(n_clusters=10, n_init=\"auto\")\n",
        "kmeans.fit(scaled_data)\n",
        "distances = kmeans.transform(scaled_data)\n",
        "min_distances = np.min(distances, axis=1)\n",
        "threshold_kmeans = np.percentile(min_distances, 95)\n",
        "anomalies_kmeans = scaled_data[min_distances > threshold_kmeans]\n",
        "\n",
        "ensemble_anomalies = np.concatenate((anomalies_gmm, anomalies_kmeans), axis=0)\n",
        "ensemble_indices = np.concatenate((np.where(log_likelihoods < threshold_gmm)[0], np.where(min_distances > threshold_kmeans)[0]), axis=0)\n",
        "gmm_contributions = np.abs(scaled_data[ensemble_indices] - gmm.means_[gmm.predict(scaled_data[ensemble_indices])])\n",
        "kmeans_contributions = np.abs(scaled_data[ensemble_indices] - kmeans.cluster_centers_[kmeans.labels_[ensemble_indices]])\n",
        "ensemble_contributions = np.sum(gmm_contributions + kmeans_contributions, axis=0)\n",
        "\n",
        "sorted_indices = np.argsort(-ensemble_contributions)\n",
        "sorted_features = df.columns[sorted_indices]\n",
        "sorted_contributions = ensemble_contributions[sorted_indices]\n",
        "\n",
        "print(\"Features and their Contributions (Sorted):\")\n",
        "for index, contribution in enumerate(sorted_contributions):\n",
        "    feature = sorted_features[index]\n",
        "    print(\"{}: {}\".format(feature, contribution))\n"
      ]
    },
    {
      "cell_type": "code",
      "execution_count": null,
      "metadata": {
        "id": "Ik3ymGWcfB2P"
      },
      "outputs": [],
      "source": [
        "filename = 'ensemble.pkl'\n",
        "with open(filename, 'wb') as file:\n",
        "    pickle.dump(state_dict, file)"
      ]
    }
  ],
  "metadata": {
    "accelerator": "GPU",
    "colab": {
      "gpuType": "T4",
      "machine_shape": "hm",
      "provenance": []
    },
    "gpuClass": "standard",
    "kernelspec": {
      "display_name": "Python 3",
      "name": "python3"
    },
    "language_info": {
      "name": "python"
    }
  },
  "nbformat": 4,
  "nbformat_minor": 0
}
