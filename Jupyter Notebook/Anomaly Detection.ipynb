{
 "cells": [
  {
   "attachments": {},
   "cell_type": "markdown",
   "id": "a784c8c3",
   "metadata": {},
   "source": [
    "<b>Modules"
   ]
  },
  {
   "cell_type": "code",
   "execution_count": 10,
   "id": "cd8785c4",
   "metadata": {},
   "outputs": [],
   "source": [
    "import numpy as np\n",
    "import pandas as pd\n",
    "import seaborn as sns\n",
    "import matplotlib.pyplot as plt\n",
    "from sklearn.preprocessing import LabelEncoder , OneHotEncoder\n",
    "from sklearn.preprocessing import MinMaxScaler , StandardScaler\n",
    "from sklearn.model_selection import train_test_split , KFold , StratifiedKFold\n",
    "from sklearn.linear_model import LogisticRegression\n",
    "from sklearn.svm import SVC\n",
    "from sklearn.tree import DecisionTreeClassifier\n",
    "from sklearn.ensemble import RandomForestClassifier\n",
    "from sklearn.metrics import accuracy_score\n",
    "from sklearn.metrics import confusion_matrix\n",
    "from sklearn.metrics import classification_report\n",
    "import pickle"
   ]
  },
  {
   "attachments": {},
   "cell_type": "markdown",
   "id": "355ba392",
   "metadata": {},
   "source": [
    "<b>Dataset"
   ]
  },
  {
   "cell_type": "code",
   "execution_count": 11,
   "id": "de2d0735",
   "metadata": {},
   "outputs": [
    {
     "data": {
      "text/html": [
       "<div>\n",
       "<style scoped>\n",
       "    .dataframe tbody tr th:only-of-type {\n",
       "        vertical-align: middle;\n",
       "    }\n",
       "\n",
       "    .dataframe tbody tr th {\n",
       "        vertical-align: top;\n",
       "    }\n",
       "\n",
       "    .dataframe thead th {\n",
       "        text-align: right;\n",
       "    }\n",
       "</style>\n",
       "<table border=\"1\" class=\"dataframe\">\n",
       "  <thead>\n",
       "    <tr style=\"text-align: right;\">\n",
       "      <th></th>\n",
       "      <th>Login Timestamp</th>\n",
       "      <th>User ID</th>\n",
       "      <th>IP Address</th>\n",
       "      <th>Country</th>\n",
       "      <th>Region</th>\n",
       "      <th>City</th>\n",
       "      <th>Browser Name and Version</th>\n",
       "      <th>Device Type</th>\n",
       "      <th>Login Successful</th>\n",
       "    </tr>\n",
       "  </thead>\n",
       "  <tbody>\n",
       "    <tr>\n",
       "      <th>0</th>\n",
       "      <td>2020-02-03 12:43:30.772</td>\n",
       "      <td>-4324475583306591935</td>\n",
       "      <td>10.0.65.171</td>\n",
       "      <td>NO</td>\n",
       "      <td>-</td>\n",
       "      <td>-</td>\n",
       "      <td>Firefox 20.0.0.1618</td>\n",
       "      <td>mobile</td>\n",
       "      <td>False</td>\n",
       "    </tr>\n",
       "    <tr>\n",
       "      <th>1</th>\n",
       "      <td>2020-02-03 12:43:43.549</td>\n",
       "      <td>-4324475583306591935</td>\n",
       "      <td>194.87.207.6</td>\n",
       "      <td>AU</td>\n",
       "      <td>-</td>\n",
       "      <td>-</td>\n",
       "      <td>Chrome Mobile 46.0.2490</td>\n",
       "      <td>mobile</td>\n",
       "      <td>False</td>\n",
       "    </tr>\n",
       "    <tr>\n",
       "      <th>2</th>\n",
       "      <td>2020-02-03 12:43:55.873</td>\n",
       "      <td>-3284137479262433373</td>\n",
       "      <td>81.167.144.58</td>\n",
       "      <td>NO</td>\n",
       "      <td>Vestland</td>\n",
       "      <td>Urangsvag</td>\n",
       "      <td>Android 2.3.3.2672</td>\n",
       "      <td>mobile</td>\n",
       "      <td>True</td>\n",
       "    </tr>\n",
       "    <tr>\n",
       "      <th>3</th>\n",
       "      <td>2020-02-03 12:43:56.180</td>\n",
       "      <td>-4324475583306591935</td>\n",
       "      <td>170.39.78.152</td>\n",
       "      <td>US</td>\n",
       "      <td>-</td>\n",
       "      <td>-</td>\n",
       "      <td>Chrome Mobile WebView 85.0.4183</td>\n",
       "      <td>mobile</td>\n",
       "      <td>False</td>\n",
       "    </tr>\n",
       "    <tr>\n",
       "      <th>4</th>\n",
       "      <td>2020-02-03 12:43:59.396</td>\n",
       "      <td>-4618854071942621186</td>\n",
       "      <td>10.0.0.47</td>\n",
       "      <td>US</td>\n",
       "      <td>Virginia</td>\n",
       "      <td>Ashburn</td>\n",
       "      <td>Chrome Mobile WebView 85.0.4183</td>\n",
       "      <td>mobile</td>\n",
       "      <td>False</td>\n",
       "    </tr>\n",
       "  </tbody>\n",
       "</table>\n",
       "</div>"
      ],
      "text/plain": [
       "           Login Timestamp              User ID     IP Address Country   \n",
       "0  2020-02-03 12:43:30.772 -4324475583306591935    10.0.65.171      NO  \\\n",
       "1  2020-02-03 12:43:43.549 -4324475583306591935   194.87.207.6      AU   \n",
       "2  2020-02-03 12:43:55.873 -3284137479262433373  81.167.144.58      NO   \n",
       "3  2020-02-03 12:43:56.180 -4324475583306591935  170.39.78.152      US   \n",
       "4  2020-02-03 12:43:59.396 -4618854071942621186      10.0.0.47      US   \n",
       "\n",
       "     Region       City         Browser Name and Version Device Type   \n",
       "0         -          -              Firefox 20.0.0.1618      mobile  \\\n",
       "1         -          -          Chrome Mobile 46.0.2490      mobile   \n",
       "2  Vestland  Urangsvag               Android 2.3.3.2672      mobile   \n",
       "3         -          -  Chrome Mobile WebView 85.0.4183      mobile   \n",
       "4  Virginia    Ashburn  Chrome Mobile WebView 85.0.4183      mobile   \n",
       "\n",
       "   Login Successful  \n",
       "0             False  \n",
       "1             False  \n",
       "2              True  \n",
       "3             False  \n",
       "4             False  "
      ]
     },
     "execution_count": 11,
     "metadata": {},
     "output_type": "execute_result"
    }
   ],
   "source": [
    "# Read the Dataset\n",
    "Dataset = pd.read_csv(\"../data/Login_Data.csv\")\n",
    "\n",
    "# Display the Data\n",
    "Dataset.head()"
   ]
  },
  {
   "cell_type": "code",
   "execution_count": 12,
   "id": "d9f8962a",
   "metadata": {},
   "outputs": [
    {
     "name": "stdout",
     "output_type": "stream",
     "text": [
      "Shape of the Dataset is : (31269264, 9)\n"
     ]
    }
   ],
   "source": [
    "# Display the Shape of the Dataset\n",
    "print(f\"Shape of the Dataset is : {Dataset.shape}\")"
   ]
  },
  {
   "cell_type": "code",
   "execution_count": 13,
   "id": "522d0b7a",
   "metadata": {},
   "outputs": [
    {
     "name": "stdout",
     "output_type": "stream",
     "text": [
      "Total Duplicated Data in the Dataset is : 0\n"
     ]
    }
   ],
   "source": [
    "# Find out the Duplicates Data\n",
    "count_duplicate = Dataset.duplicated().sum()\n",
    "\n",
    "# Display the Duplicated Data\n",
    "print(f\"Total Duplicated Data in the Dataset is : {count_duplicate}\")"
   ]
  },
  {
   "cell_type": "code",
   "execution_count": 14,
   "id": "cf47da69",
   "metadata": {},
   "outputs": [
    {
     "name": "stdout",
     "output_type": "stream",
     "text": [
      "The Missing Values in the Dataset is : \n",
      "\n",
      "Login Timestamp                 0\n",
      "User ID                         0\n",
      "IP Address                      0\n",
      "Country                         0\n",
      "Region                      47409\n",
      "City                         8590\n",
      "Browser Name and Version        0\n",
      "Device Type                  1526\n",
      "Login Successful                0\n",
      "dtype: int64\n"
     ]
    }
   ],
   "source": [
    "# Check the Nan Values in the Dataset\n",
    "nanValues = Dataset.isnull().sum()\n",
    "print(f\"The Missing Values in the Dataset is : \\n\\n{nanValues}\")"
   ]
  },
  {
   "cell_type": "code",
   "execution_count": 15,
   "id": "c89be48e",
   "metadata": {},
   "outputs": [
    {
     "name": "stdout",
     "output_type": "stream",
     "text": [
      "<class 'pandas.core.frame.DataFrame'>\n",
      "RangeIndex: 31269264 entries, 0 to 31269263\n",
      "Data columns (total 9 columns):\n",
      " #   Column                    Dtype \n",
      "---  ------                    ----- \n",
      " 0   Login Timestamp           object\n",
      " 1   User ID                   int64 \n",
      " 2   IP Address                object\n",
      " 3   Country                   object\n",
      " 4   Region                    object\n",
      " 5   City                      object\n",
      " 6   Browser Name and Version  object\n",
      " 7   Device Type               object\n",
      " 8   Login Successful          bool  \n",
      "dtypes: bool(1), int64(1), object(7)\n",
      "memory usage: 1.9+ GB\n"
     ]
    }
   ],
   "source": [
    "# Display the Information of the Dataset\n",
    "Dataset.info()"
   ]
  },
  {
   "attachments": {},
   "cell_type": "markdown",
   "id": "8824e45d",
   "metadata": {},
   "source": [
    "<b>Find Unique Values Count of Important Columns"
   ]
  },
  {
   "cell_type": "code",
   "execution_count": 16,
   "id": "d98547af",
   "metadata": {},
   "outputs": [
    {
     "name": "stdout",
     "output_type": "stream",
     "text": [
      "Unique Values Count of Region Column is : \n",
      "\n",
      "Region\n",
      "-                         14013381\n",
      "Oslo County                2314071\n",
      "Viken                      1994024\n",
      "Rogaland                   1713780\n",
      "Innlandet                   834122\n",
      "                            ...   \n",
      "Distrikt Commewijne              1\n",
      "Berane                           1\n",
      "Jaunpils                         1\n",
      "Fakaofo                          1\n",
      "Parish of Saint Philip           1\n",
      "Name: count, Length: 2638, dtype: int64\n"
     ]
    }
   ],
   "source": [
    "# Check the Unique Values in the (Region Column)\n",
    "count_region = Dataset[\"Region\"].value_counts()\n",
    "print(f\"Unique Values Count of Region Column is : \\n\\n{count_region}\")"
   ]
  },
  {
   "cell_type": "code",
   "execution_count": 17,
   "id": "51014581",
   "metadata": {},
   "outputs": [
    {
     "name": "stdout",
     "output_type": "stream",
     "text": [
      "Unique Values Count of City Column is : \n",
      "\n",
      "City\n",
      "-                    13904552\n",
      "Oslo                  2308651\n",
      "Stavanger              526800\n",
      "St Petersburg          516977\n",
      "Bergen                 341021\n",
      "                       ...   \n",
      "Marcilly-sur-Eure           1\n",
      "Kastornoye                  1\n",
      "Tsudanuma                   1\n",
      "Neudorf                     1\n",
      "Chotoviny                   1\n",
      "Name: count, Length: 38885, dtype: int64\n"
     ]
    }
   ],
   "source": [
    "# Check the Unique Values in the (City Column)\n",
    "count_city = Dataset[\"City\"].value_counts()\n",
    "print(f\"Unique Values Count of City Column is : \\n\\n{count_city}\")"
   ]
  },
  {
   "cell_type": "code",
   "execution_count": 18,
   "id": "f6f2f5e9",
   "metadata": {},
   "outputs": [
    {
     "name": "stdout",
     "output_type": "stream",
     "text": [
      "Unique Values Count of Device Type Column is : \n",
      "\n",
      "Device Type\n",
      "mobile     19642650\n",
      "desktop     7934515\n",
      "bot         2027834\n",
      "unknown      867371\n",
      "tablet       795368\n",
      "Name: count, dtype: int64\n"
     ]
    }
   ],
   "source": [
    "# Check the Unique Values in the (Device Type Column)\n",
    "count_device = Dataset[\"Device Type\"].value_counts()\n",
    "print(f\"Unique Values Count of Device Type Column is : \\n\\n{count_device}\")"
   ]
  },
  {
   "cell_type": "code",
   "execution_count": 19,
   "id": "14e4388d",
   "metadata": {},
   "outputs": [
    {
     "name": "stdout",
     "output_type": "stream",
     "text": [
      "Unique Values Count of Login Successful Column is : \n",
      "\n",
      "Login Successful\n",
      "False    18727822\n",
      "True     12541442\n",
      "Name: count, dtype: int64\n"
     ]
    }
   ],
   "source": [
    "# Check the Unique Values in the (Login Successful Column)\n",
    "count_login = Dataset[\"Login Successful\"].value_counts()\n",
    "print(f\"Unique Values Count of Login Successful Column is : \\n\\n{count_login}\")"
   ]
  },
  {
   "attachments": {},
   "cell_type": "markdown",
   "id": "4b4b53d1",
   "metadata": {},
   "source": [
    "<b>Preprocessing Dataset"
   ]
  },
  {
   "attachments": {},
   "cell_type": "markdown",
   "id": "e0734287",
   "metadata": {},
   "source": [
    "Handle the Missing Values"
   ]
  },
  {
   "cell_type": "code",
   "execution_count": 20,
   "id": "62528d27",
   "metadata": {},
   "outputs": [],
   "source": [
    "# Handle the Missing Values for (Region Column)\n",
    "Dataset[\"Region\"].fillna(\"Oslo County\" , inplace = True)\n",
    "\n",
    "# Handle this Sign \"_\" \n",
    "Dataset[\"Region\"] = Dataset[\"Region\"].replace(\"-\" , \"Oslo County\")"
   ]
  },
  {
   "cell_type": "code",
   "execution_count": 21,
   "id": "1561ea99",
   "metadata": {},
   "outputs": [],
   "source": [
    "# Handle the Missing Values for (City Column)\n",
    "Dataset[\"City\"].fillna(\"Oslo\" , inplace = True)\n",
    "\n",
    "# Handle this Sign \"_\" \n",
    "Dataset[\"City\"] = Dataset[\"City\"].replace(\"-\" , \"Oslo\")"
   ]
  },
  {
   "cell_type": "code",
   "execution_count": 22,
   "id": "16f4f454",
   "metadata": {},
   "outputs": [],
   "source": [
    "# Handle the Missing Values for (Device Type)\n",
    "Dataset[\"Device Type\"].fillna(\"mobile\" , inplace = True)"
   ]
  },
  {
   "attachments": {},
   "cell_type": "markdown",
   "id": "ee362602",
   "metadata": {},
   "source": [
    "Handle the Categorical Data"
   ]
  },
  {
   "cell_type": "code",
   "execution_count": 23,
   "id": "eb1cb764",
   "metadata": {},
   "outputs": [],
   "source": [
    "# Handle the (Browser Name and Version Column) convert into Numerical Data\n",
    "\n",
    "# Define The Function that Return the Browser Name\n",
    "def browserName(text):\n",
    "    browser_name = \"\"\n",
    "    for index in range(0,len(text)):\n",
    "        if text[index].isnumeric():\n",
    "            break\n",
    "        browser_name = browser_name + text[index]\n",
    "    return browser_name.strip()\n",
    "\n",
    "# Apply the Function in the (Browser Name and Version Column) \n",
    "Dataset[\"Browser Name\"] = Dataset[\"Browser Name and Version\"].apply(browserName)"
   ]
  },
  {
   "cell_type": "code",
   "execution_count": 24,
   "id": "8b9ac8ca",
   "metadata": {},
   "outputs": [],
   "source": [
    "# Create the Object of the LabelEncoder \n",
    "encoder = LabelEncoder()"
   ]
  },
  {
   "cell_type": "code",
   "execution_count": 25,
   "id": "0ef0f3f8",
   "metadata": {},
   "outputs": [],
   "source": [
    "# Convert the (Country Column) into Numerical Form\n",
    "for col in [\"Country\" , \"Region\" , \"City\" , \"Browser Name\" , \"Device Type\"]:\n",
    "    name = \"Trans_\" + col # Define the New Column Name \n",
    "    Dataset[name] = encoder.fit_transform(Dataset[col])\n",
    "\n",
    "# Login Successful Column Convert into Numerical Column\n",
    "Dataset[\"Login Successful\"] = encoder.fit_transform(Dataset[\"Login Successful\"])"
   ]
  },
  {
   "attachments": {},
   "cell_type": "markdown",
   "id": "72b37a5a",
   "metadata": {},
   "source": [
    "Convert Data into Independent & Dependent Matrix"
   ]
  },
  {
   "cell_type": "code",
   "execution_count": 26,
   "id": "5bf7f1e4",
   "metadata": {},
   "outputs": [
    {
     "name": "stdout",
     "output_type": "stream",
     "text": [
      "Shape of the X Matrix is : (31269264, 5)\n",
      "Shape of the Y Matrix is : (31269264,)\n"
     ]
    }
   ],
   "source": [
    "# Convert the Data into Dependent & Independent Matrix\n",
    "X = Dataset.iloc[:,[10,11,12,13,14]].values\n",
    "Y = Dataset.iloc[:,8].values\n",
    "\n",
    "# Display the Shape of the X & Y Matrix\n",
    "print(f\"Shape of the X Matrix is : {X.shape}\")\n",
    "print(f\"Shape of the Y Matrix is : {Y.shape}\")"
   ]
  },
  {
   "attachments": {},
   "cell_type": "markdown",
   "id": "cd262729",
   "metadata": {},
   "source": [
    "Normalize the Data (Convert the Data in the Common Range)"
   ]
  },
  {
   "cell_type": "code",
   "execution_count": 27,
   "id": "fe65f125",
   "metadata": {},
   "outputs": [],
   "source": [
    "# Create the Object of The MinMaxScaler\n",
    "scaler = MinMaxScaler()\n",
    "\n",
    "# Normalize tehe Data\n",
    "X = scaler.fit_transform(X)"
   ]
  },
  {
   "attachments": {},
   "cell_type": "markdown",
   "id": "9f6b1996",
   "metadata": {},
   "source": [
    "<b>Visualisation"
   ]
  },
  {
   "cell_type": "code",
   "execution_count": 28,
   "id": "24ad1316",
   "metadata": {},
   "outputs": [
    {
     "data": {
      "text/html": [
       "<div>\n",
       "<style scoped>\n",
       "    .dataframe tbody tr th:only-of-type {\n",
       "        vertical-align: middle;\n",
       "    }\n",
       "\n",
       "    .dataframe tbody tr th {\n",
       "        vertical-align: top;\n",
       "    }\n",
       "\n",
       "    .dataframe thead th {\n",
       "        text-align: right;\n",
       "    }\n",
       "</style>\n",
       "<table border=\"1\" class=\"dataframe\">\n",
       "  <thead>\n",
       "    <tr style=\"text-align: right;\">\n",
       "      <th></th>\n",
       "      <th>Login Timestamp</th>\n",
       "      <th>User ID</th>\n",
       "      <th>IP Address</th>\n",
       "      <th>Country</th>\n",
       "      <th>Region</th>\n",
       "      <th>City</th>\n",
       "      <th>Browser Name and Version</th>\n",
       "      <th>Device Type</th>\n",
       "      <th>Login Successful</th>\n",
       "      <th>Browser Name</th>\n",
       "      <th>Trans_Country</th>\n",
       "      <th>Trans_Region</th>\n",
       "      <th>Trans_City</th>\n",
       "      <th>Trans_Browser Name</th>\n",
       "      <th>Trans_Device Type</th>\n",
       "    </tr>\n",
       "  </thead>\n",
       "  <tbody>\n",
       "    <tr>\n",
       "      <th>0</th>\n",
       "      <td>2020-02-03 12:43:30.772</td>\n",
       "      <td>-4324475583306591935</td>\n",
       "      <td>10.0.65.171</td>\n",
       "      <td>NO</td>\n",
       "      <td>Oslo County</td>\n",
       "      <td>Oslo</td>\n",
       "      <td>Firefox 20.0.0.1618</td>\n",
       "      <td>mobile</td>\n",
       "      <td>0</td>\n",
       "      <td>Firefox</td>\n",
       "      <td>153</td>\n",
       "      <td>1657</td>\n",
       "      <td>25237</td>\n",
       "      <td>46</td>\n",
       "      <td>2</td>\n",
       "    </tr>\n",
       "    <tr>\n",
       "      <th>1</th>\n",
       "      <td>2020-02-03 12:43:43.549</td>\n",
       "      <td>-4324475583306591935</td>\n",
       "      <td>194.87.207.6</td>\n",
       "      <td>AU</td>\n",
       "      <td>Oslo County</td>\n",
       "      <td>Oslo</td>\n",
       "      <td>Chrome Mobile 46.0.2490</td>\n",
       "      <td>mobile</td>\n",
       "      <td>0</td>\n",
       "      <td>Chrome Mobile</td>\n",
       "      <td>11</td>\n",
       "      <td>1657</td>\n",
       "      <td>25237</td>\n",
       "      <td>24</td>\n",
       "      <td>2</td>\n",
       "    </tr>\n",
       "    <tr>\n",
       "      <th>2</th>\n",
       "      <td>2020-02-03 12:43:55.873</td>\n",
       "      <td>-3284137479262433373</td>\n",
       "      <td>81.167.144.58</td>\n",
       "      <td>NO</td>\n",
       "      <td>Vestland</td>\n",
       "      <td>Urangsvag</td>\n",
       "      <td>Android 2.3.3.2672</td>\n",
       "      <td>mobile</td>\n",
       "      <td>1</td>\n",
       "      <td>Android</td>\n",
       "      <td>153</td>\n",
       "      <td>2470</td>\n",
       "      <td>35833</td>\n",
       "      <td>5</td>\n",
       "      <td>2</td>\n",
       "    </tr>\n",
       "    <tr>\n",
       "      <th>3</th>\n",
       "      <td>2020-02-03 12:43:56.180</td>\n",
       "      <td>-4324475583306591935</td>\n",
       "      <td>170.39.78.152</td>\n",
       "      <td>US</td>\n",
       "      <td>Oslo County</td>\n",
       "      <td>Oslo</td>\n",
       "      <td>Chrome Mobile WebView 85.0.4183</td>\n",
       "      <td>mobile</td>\n",
       "      <td>0</td>\n",
       "      <td>Chrome Mobile WebView</td>\n",
       "      <td>211</td>\n",
       "      <td>1657</td>\n",
       "      <td>25237</td>\n",
       "      <td>25</td>\n",
       "      <td>2</td>\n",
       "    </tr>\n",
       "    <tr>\n",
       "      <th>4</th>\n",
       "      <td>2020-02-03 12:43:59.396</td>\n",
       "      <td>-4618854071942621186</td>\n",
       "      <td>10.0.0.47</td>\n",
       "      <td>US</td>\n",
       "      <td>Virginia</td>\n",
       "      <td>Ashburn</td>\n",
       "      <td>Chrome Mobile WebView 85.0.4183</td>\n",
       "      <td>mobile</td>\n",
       "      <td>0</td>\n",
       "      <td>Chrome Mobile WebView</td>\n",
       "      <td>211</td>\n",
       "      <td>2489</td>\n",
       "      <td>1809</td>\n",
       "      <td>25</td>\n",
       "      <td>2</td>\n",
       "    </tr>\n",
       "  </tbody>\n",
       "</table>\n",
       "</div>"
      ],
      "text/plain": [
       "           Login Timestamp              User ID     IP Address Country   \n",
       "0  2020-02-03 12:43:30.772 -4324475583306591935    10.0.65.171      NO  \\\n",
       "1  2020-02-03 12:43:43.549 -4324475583306591935   194.87.207.6      AU   \n",
       "2  2020-02-03 12:43:55.873 -3284137479262433373  81.167.144.58      NO   \n",
       "3  2020-02-03 12:43:56.180 -4324475583306591935  170.39.78.152      US   \n",
       "4  2020-02-03 12:43:59.396 -4618854071942621186      10.0.0.47      US   \n",
       "\n",
       "        Region       City         Browser Name and Version Device Type   \n",
       "0  Oslo County       Oslo              Firefox 20.0.0.1618      mobile  \\\n",
       "1  Oslo County       Oslo          Chrome Mobile 46.0.2490      mobile   \n",
       "2     Vestland  Urangsvag               Android 2.3.3.2672      mobile   \n",
       "3  Oslo County       Oslo  Chrome Mobile WebView 85.0.4183      mobile   \n",
       "4     Virginia    Ashburn  Chrome Mobile WebView 85.0.4183      mobile   \n",
       "\n",
       "   Login Successful           Browser Name  Trans_Country  Trans_Region   \n",
       "0                 0                Firefox            153          1657  \\\n",
       "1                 0          Chrome Mobile             11          1657   \n",
       "2                 1                Android            153          2470   \n",
       "3                 0  Chrome Mobile WebView            211          1657   \n",
       "4                 0  Chrome Mobile WebView            211          2489   \n",
       "\n",
       "   Trans_City  Trans_Browser Name  Trans_Device Type  \n",
       "0       25237                  46                  2  \n",
       "1       25237                  24                  2  \n",
       "2       35833                   5                  2  \n",
       "3       25237                  25                  2  \n",
       "4        1809                  25                  2  "
      ]
     },
     "execution_count": 28,
     "metadata": {},
     "output_type": "execute_result"
    }
   ],
   "source": [
    "Dataset.head()"
   ]
  },
  {
   "attachments": {},
   "cell_type": "markdown",
   "id": "1a7884fc",
   "metadata": {},
   "source": [
    "<b>Splitting Dataset into (Training & Testing)"
   ]
  },
  {
   "cell_type": "code",
   "execution_count": 29,
   "id": "f7736191",
   "metadata": {},
   "outputs": [
    {
     "name": "stdout",
     "output_type": "stream",
     "text": [
      "Shape of the X Train is : (21888484, 5)\n",
      "Shape of the X Train is : (9380780, 5)\n",
      "Shape of the X Train is : (21888484,)\n",
      "Shape of the X Train is : (9380780,)\n"
     ]
    }
   ],
   "source": [
    "# Split the Dataset into Training and Testing\n",
    "x_train , x_test , y_train , y_test = train_test_split(X , Y , test_size = 0.3 , random_state = 42)\n",
    "\n",
    "# Display the Shape of the Training and Testing Data\n",
    "print(f\"Shape of the X Train is : {x_train.shape}\")\n",
    "print(f\"Shape of the X Train is : {x_test.shape}\")\n",
    "print(f\"Shape of the X Train is : {y_train.shape}\")\n",
    "print(f\"Shape of the X Train is : {y_test.shape}\")"
   ]
  },
  {
   "attachments": {},
   "cell_type": "markdown",
   "id": "bb5283c0",
   "metadata": {},
   "source": [
    "<b>Machine Learning Models"
   ]
  },
  {
   "cell_type": "code",
   "execution_count": 30,
   "id": "9479e750",
   "metadata": {},
   "outputs": [],
   "source": [
    "# Define The Function that predict the Result\n",
    "def predict_result(model , x_train = x_train , x_test = x_test , y_train = y_train , y_test = y_test):\n",
    "    \n",
    "    # Train the Model\n",
    "    model.fit(x_train , y_train)\n",
    "    \n",
    "    # Predict the Result\n",
    "    prediction = model.predict(x_test)\n",
    "    \n",
    "    # Calculate the Accuracy of the Model\n",
    "    acc = accuracy_score(y_test , prediction)\n",
    "    \n",
    "    # Calculate the Classification Report\n",
    "    class_report = classification_report(y_test , prediction)\n",
    "    \n",
    "    # Calculate the Confusion Matrix\n",
    "    con_matrix = confusion_matrix(y_test , prediction)\n",
    "    \n",
    "    return model , prediction , acc , class_report , con_matrix"
   ]
  },
  {
   "attachments": {},
   "cell_type": "markdown",
   "id": "37452b49",
   "metadata": {},
   "source": [
    "Logistic Regression Model"
   ]
  },
  {
   "cell_type": "code",
   "execution_count": 31,
   "id": "ef6cf39f",
   "metadata": {},
   "outputs": [],
   "source": [
    "# Create the Object of the Lofistic Regression Model\n",
    "model_lr = LogisticRegression()\n",
    "\n",
    "# Call the predict result function and get the Results\n",
    "model_lr , predict_lr , acc_lr , report_lr , matrix_lr = predict_result(model_lr)"
   ]
  },
  {
   "cell_type": "code",
   "execution_count": 32,
   "id": "0471e590",
   "metadata": {},
   "outputs": [
    {
     "name": "stdout",
     "output_type": "stream",
     "text": [
      "Accuracy Score of the Logistic Regression Model is : 0.6224593264099574\n",
      "\n",
      "\n",
      "Classification Report of the Logistic Regression Model is : \n",
      "\n",
      "              precision    recall  f1-score   support\n",
      "\n",
      "           0       0.63      0.90      0.74   5617172\n",
      "           1       0.58      0.21      0.31   3763608\n",
      "\n",
      "    accuracy                           0.62   9380780\n",
      "   macro avg       0.60      0.55      0.53   9380780\n",
      "weighted avg       0.61      0.62      0.57   9380780\n",
      "\n"
     ]
    }
   ],
   "source": [
    "# Display the Accuracy Score of the Logistic Regression Model \n",
    "print(f\"Accuracy Score of the Logistic Regression Model is : {acc_lr}\\n\\n\")\n",
    "\n",
    "# Display the Classification Report of the Logistic Regression Model\n",
    "print(f\"Classification Report of the Logistic Regression Model is : \\n\\n{report_lr}\")"
   ]
  },
  {
   "cell_type": "code",
   "execution_count": 33,
   "id": "053e2e0d",
   "metadata": {},
   "outputs": [
    {
     "data": {
      "image/png": "[encoded data removed]",
      "text/plain": [
       "<Figure size 640x480 with 2 Axes>"
      ]
     },
     "metadata": {},
     "output_type": "display_data"
    }
   ],
   "source": [
    "# Display the Confusion Matrix of the Logistic Regression \n",
    "sns.heatmap(matrix_lr , annot = True)\n",
    "plt.title(\"LR Confusion Matrix\")\n",
    "plt.show()"
   ]
  },
  {
   "attachments": {},
   "cell_type": "markdown",
   "id": "c9900988",
   "metadata": {},
   "source": [
    "Decision Tree Classifier Model"
   ]
  },
  {
   "cell_type": "code",
   "execution_count": 34,
   "id": "0ca3963b",
   "metadata": {},
   "outputs": [],
   "source": [
    "# Create the Object of the Decision Tree Classifier Model\n",
    "model_dt = DecisionTreeClassifier()\n",
    "\n",
    "# Call the predict result function and get the Results\n",
    "model_dt , predict_dt , acc_dt , report_dt , matrix_dt = predict_result(model_dt)"
   ]
  },
  {
   "cell_type": "code",
   "execution_count": 35,
   "id": "b165cd2f",
   "metadata": {},
   "outputs": [
    {
     "name": "stdout",
     "output_type": "stream",
     "text": [
      "Accuracy Score of the Decision Tree Classifier Model is : 0.7372940203266679\n",
      "\n",
      "\n",
      "Classifiation Report of the Decision Tree Classifier Model is : \n",
      "\n",
      "              precision    recall  f1-score   support\n",
      "\n",
      "           0       0.80      0.76      0.77   5617172\n",
      "           1       0.66      0.71      0.68   3763608\n",
      "\n",
      "    accuracy                           0.74   9380780\n",
      "   macro avg       0.73      0.73      0.73   9380780\n",
      "weighted avg       0.74      0.74      0.74   9380780\n",
      "\n"
     ]
    }
   ],
   "source": [
    "# Display the Accuracy Score of the Decision Tree Classifier Model \n",
    "print(f\"Accuracy Score of the Decision Tree Classifier Model is : {acc_dt}\\n\\n\")\n",
    "\n",
    "# Display the Classification Report of the Decision Tree Classifier Model\n",
    "print(f\"Classifiation Report of the Decision Tree Classifier Model is : \\n\\n{report_dt}\")"
   ]
  },
  {
   "cell_type": "code",
   "execution_count": 36,
   "id": "1bc592d8",
   "metadata": {},
   "outputs": [
    {
     "data": {
      "image/png": "[encoded data removed]",
      "text/plain": [
       "<Figure size 640x480 with 2 Axes>"
      ]
     },
     "metadata": {},
     "output_type": "display_data"
    }
   ],
   "source": [
    "# Display the Confusion Matrix of the Decision Tree Classifier \n",
    "sns.heatmap(matrix_dt , annot = True)\n",
    "plt.title(\"DT Confusion Matrix\")\n",
    "plt.show()"
   ]
  },
  {
   "attachments": {},
   "cell_type": "markdown",
   "id": "4c3c841e",
   "metadata": {},
   "source": [
    "Support Vector Classifier Model"
   ]
  },
  {
   "cell_type": "code",
   "execution_count": null,
   "id": "42308e61",
   "metadata": {},
   "outputs": [],
   "source": [
    "# Create the Object of the Support Vector Classifier Model\n",
    "model_sv = SVC()\n",
    "\n",
    "# Call the predict result function and get the Results\n",
    "model_sv , predict_sv , acc_sv , report_sv , matrix_sv = predict_result(model_sv)"
   ]
  },
  {
   "cell_type": "code",
   "execution_count": null,
   "id": "f2a56813",
   "metadata": {},
   "outputs": [],
   "source": [
    "# Display the Accuracy Score of the Support Vector Classifier Model \n",
    "print(f\"Accuracy Score of the Support Vector Classifier Model is : {acc_sv}\\n\\n\")\n",
    "\n",
    "# Display the Classification Report of the Support Vector Classifier Model\n",
    "print(f\"Classifiation Report of the Support Vector Classifier Model is : \\n\\n{report_sv}\")"
   ]
  },
  {
   "cell_type": "code",
   "execution_count": null,
   "id": "670b20e3",
   "metadata": {},
   "outputs": [],
   "source": [
    "# Display the Confusion Matrix of the Support Vector Classifier\n",
    "sns.heatmap(matrix_sv , annot = True)\n",
    "plt.title(\"SV Confusion Matrix\")\n",
    "plt.show()"
   ]
  },
  {
   "attachments": {},
   "cell_type": "markdown",
   "id": "64f6028a",
   "metadata": {},
   "source": [
    "<b>Display the Models Name and Accuracy"
   ]
  },
  {
   "cell_type": "code",
   "execution_count": null,
   "id": "5c1f3a63",
   "metadata": {},
   "outputs": [],
   "source": [
    "# Define the Name of the Models\n",
    "modelName = ['LogisticRegrssion' , 'DecisionTree' , \"SupportVector\"]\n",
    "\n",
    "# Add the Accuracy of the Models\n",
    "modelAcc = [acc_lr , acc_dt , acc_sv]\n",
    "\n",
    "# Display the Result\n",
    "sns.barplot(modelName , modelAcc)\n",
    "plt.show()"
   ]
  },
  {
   "attachments": {},
   "cell_type": "markdown",
   "id": "e13b46d3",
   "metadata": {},
   "source": [
    "<b>Save Best Model"
   ]
  },
  {
   "cell_type": "code",
   "execution_count": null,
   "id": "375f1647",
   "metadata": {},
   "outputs": [],
   "source": [
    "# Save the Decision Tree Classifier Model\n",
    "pickle.dump(model_dt , open('dtModel.pkl' , 'wb'))\n",
    "pickle.dump(encoder , open(\"Encoder.pkl\" , \"wb\"))"
   ]
  }
 ],
 "metadata": {
  "kernelspec": {
   "display_name": "Python 3 (ipykernel)",
   "language": "python",
   "name": "python3"
  },
  "language_info": {
   "codemirror_mode": {
    "name": "ipython",
    "version": 3
   },
   "file_extension": ".py",
   "mimetype": "text/x-python",
   "name": "python",
   "nbconvert_exporter": "python",
   "pygments_lexer": "ipython3",
   "version": "3.11.3"
  }
 },
 "nbformat": 4,
 "nbformat_minor": 5
}
